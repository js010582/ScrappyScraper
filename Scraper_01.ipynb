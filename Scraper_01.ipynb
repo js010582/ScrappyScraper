{
 "cells": [
  {
   "cell_type": "code",
   "execution_count": 11,
   "metadata": {},
   "outputs": [
    {
     "name": "stderr",
     "output_type": "stream",
     "text": [
      "/var/folders/l4/g_00dvnj2qq6g72sztbbq6600000gn/T/ipykernel_5197/2205878734.py:6: DeprecationWarning: executable_path has been deprecated, please pass in a Service object\n",
      "  driver = webdriver.Chrome(path)\n"
     ]
    },
    {
     "name": "stdout",
     "output_type": "stream",
     "text": [
      "Overs - Total Goals\n"
     ]
    }
   ],
   "source": [
    "from selenium import webdriver\n",
    "\n",
    "website = 'https://www.adamchoi.co.uk/overs/detailed'\n",
    "path = '/Users/js010582/github/ScrappyScraper/chromedriver'\n",
    "\n",
    "driver = webdriver.Chrome(path)\n",
    "driver.get(website)\n",
    "\n",
    "print(driver.title)\n",
    "\n",
    "#close web page\n",
    "# driver.close()\n",
    "#close entire browser\n",
    "driver.quit()"
   ]
  }
 ],
 "metadata": {
  "kernelspec": {
   "display_name": "Python 3.8.13 ('python38')",
   "language": "python",
   "name": "python3"
  },
  "language_info": {
   "codemirror_mode": {
    "name": "ipython",
    "version": 3
   },
   "file_extension": ".py",
   "mimetype": "text/x-python",
   "name": "python",
   "nbconvert_exporter": "python",
   "pygments_lexer": "ipython3",
   "version": "3.8.13"
  },
  "orig_nbformat": 4,
  "vscode": {
   "interpreter": {
    "hash": "157aa58c78eb081ef5b8af986e431686929febd60a628db39f51c3499878e042"
   }
  }
 },
 "nbformat": 4,
 "nbformat_minor": 2
}
